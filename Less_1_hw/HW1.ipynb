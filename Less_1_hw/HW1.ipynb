{
 "cells": [
  {
   "cell_type": "markdown",
   "metadata": {
    "id": "alBKPK_8ZVCv"
   },
   "source": [
    "Автор материала: Зраев Артем.\n",
    "\n",
    "Можно использовать в каких угодно целях."
   ]
  },
  {
   "cell_type": "markdown",
   "metadata": {
    "id": "v85ljyexZVC2"
   },
   "source": [
    "<b> В задании нужно загрузить датасет с данными оттока и ответить на несколько вопросов (написать код). При этом сам датасет уже есть и его необязательно качать с репозитория</b>"
   ]
  },
  {
   "cell_type": "markdown",
   "metadata": {
    "id": "znJE9vwDZVC5"
   },
   "source": [
    "Цель задания: проверить базовые навыки работы студентов с Pandas, умение проводить такой же базовый EDA (exploratory data analysis), делать feature engineering и обучать и валидировать модель."
   ]
  },
  {
   "cell_type": "markdown",
   "metadata": {
    "id": "2PXeC6MEZVC-"
   },
   "source": [
    "Список столбцов с типами данных в датасете:\n",
    "\n",
    "- customerID           object\n",
    "- gender               object\n",
    "- SeniorCitizen         int64\n",
    "- Partner              object\n",
    "- Dependents           object\n",
    "- tenure                int64\n",
    "- PhoneService         object\n",
    "- MultipleLines        object\n",
    "- InternetService      object\n",
    "- OnlineSecurity       object\n",
    "- OnlineBackup         object\n",
    "- DeviceProtection     object\n",
    "- TechSupport          object\n",
    "- StreamingTV          object\n",
    "- StreamingMovies      object\n",
    "- Contract             object\n",
    "- PaperlessBilling     object\n",
    "- PaymentMethod        object\n",
    "- MonthlyCharges      float64\n",
    "- TotalCharges         object\n",
    "- Churn                object"
   ]
  },
  {
   "cell_type": "markdown",
   "metadata": {
    "id": "yr1LD0O3aA5r"
   },
   "source": [
    "Данные лежат на google диске по [ссылке](https://drive.google.com/file/d/1g8lsZO25O2SxuCrIYVSDV3eLqmfC-TCZ/view?usp=sharing)."
   ]
  },
  {
   "cell_type": "code",
   "execution_count": 1,
   "metadata": {
    "colab": {
     "base_uri": "https://localhost:8080/"
    },
    "collapsed": true,
    "id": "QNrC1b9CZ2Ry",
    "jupyter": {
     "outputs_hidden": true
    },
    "outputId": "cea39384-ddfc-4f6d-d286-c15f2551264b"
   },
   "outputs": [
    {
     "name": "stderr",
     "output_type": "stream",
     "text": [
      "\"wget\" не является внутренней или внешней\n",
      "командой, исполняемой программой или пакетным файлом.\n",
      "\"id\" не является внутренней или внешней\n",
      "командой, исполняемой программой или пакетным файлом.\n"
     ]
    }
   ],
   "source": [
    "!wget 'https://drive.google.com/uc?export=download&id=1g8lsZO25O2SxuCrIYVSDV3eLqmfC-TCZ' -O WA_Fn-UseC_-Telco-Customer-Churn.csv"
   ]
  },
  {
   "cell_type": "code",
   "execution_count": 2,
   "metadata": {
    "colab": {
     "base_uri": "https://localhost:8080/",
     "height": 242
    },
    "id": "q3ZGnjRPZVDE",
    "outputId": "d6ace0c8-6c99-4471-9417-66450924f3ee"
   },
   "outputs": [
    {
     "data": {
      "text/html": [
       "<div>\n",
       "<style scoped>\n",
       "    .dataframe tbody tr th:only-of-type {\n",
       "        vertical-align: middle;\n",
       "    }\n",
       "\n",
       "    .dataframe tbody tr th {\n",
       "        vertical-align: top;\n",
       "    }\n",
       "\n",
       "    .dataframe thead th {\n",
       "        text-align: right;\n",
       "    }\n",
       "</style>\n",
       "<table border=\"1\" class=\"dataframe\">\n",
       "  <thead>\n",
       "    <tr style=\"text-align: right;\">\n",
       "      <th></th>\n",
       "      <th>customerID</th>\n",
       "      <th>gender</th>\n",
       "      <th>SeniorCitizen</th>\n",
       "      <th>Partner</th>\n",
       "      <th>Dependents</th>\n",
       "      <th>tenure</th>\n",
       "      <th>PhoneService</th>\n",
       "      <th>MultipleLines</th>\n",
       "      <th>InternetService</th>\n",
       "      <th>OnlineSecurity</th>\n",
       "      <th>...</th>\n",
       "      <th>DeviceProtection</th>\n",
       "      <th>TechSupport</th>\n",
       "      <th>StreamingTV</th>\n",
       "      <th>StreamingMovies</th>\n",
       "      <th>Contract</th>\n",
       "      <th>PaperlessBilling</th>\n",
       "      <th>PaymentMethod</th>\n",
       "      <th>MonthlyCharges</th>\n",
       "      <th>TotalCharges</th>\n",
       "      <th>Churn</th>\n",
       "    </tr>\n",
       "  </thead>\n",
       "  <tbody>\n",
       "    <tr>\n",
       "      <th>0</th>\n",
       "      <td>7590-VHVEG</td>\n",
       "      <td>Female</td>\n",
       "      <td>0</td>\n",
       "      <td>Yes</td>\n",
       "      <td>No</td>\n",
       "      <td>1</td>\n",
       "      <td>No</td>\n",
       "      <td>No phone service</td>\n",
       "      <td>DSL</td>\n",
       "      <td>No</td>\n",
       "      <td>...</td>\n",
       "      <td>No</td>\n",
       "      <td>No</td>\n",
       "      <td>No</td>\n",
       "      <td>No</td>\n",
       "      <td>Month-to-month</td>\n",
       "      <td>Yes</td>\n",
       "      <td>Electronic check</td>\n",
       "      <td>29.85</td>\n",
       "      <td>29.85</td>\n",
       "      <td>No</td>\n",
       "    </tr>\n",
       "    <tr>\n",
       "      <th>1</th>\n",
       "      <td>5575-GNVDE</td>\n",
       "      <td>Male</td>\n",
       "      <td>0</td>\n",
       "      <td>No</td>\n",
       "      <td>No</td>\n",
       "      <td>34</td>\n",
       "      <td>Yes</td>\n",
       "      <td>No</td>\n",
       "      <td>DSL</td>\n",
       "      <td>Yes</td>\n",
       "      <td>...</td>\n",
       "      <td>Yes</td>\n",
       "      <td>No</td>\n",
       "      <td>No</td>\n",
       "      <td>No</td>\n",
       "      <td>One year</td>\n",
       "      <td>No</td>\n",
       "      <td>Mailed check</td>\n",
       "      <td>56.95</td>\n",
       "      <td>1889.5</td>\n",
       "      <td>No</td>\n",
       "    </tr>\n",
       "    <tr>\n",
       "      <th>2</th>\n",
       "      <td>3668-QPYBK</td>\n",
       "      <td>Male</td>\n",
       "      <td>0</td>\n",
       "      <td>No</td>\n",
       "      <td>No</td>\n",
       "      <td>2</td>\n",
       "      <td>Yes</td>\n",
       "      <td>No</td>\n",
       "      <td>DSL</td>\n",
       "      <td>Yes</td>\n",
       "      <td>...</td>\n",
       "      <td>No</td>\n",
       "      <td>No</td>\n",
       "      <td>No</td>\n",
       "      <td>No</td>\n",
       "      <td>Month-to-month</td>\n",
       "      <td>Yes</td>\n",
       "      <td>Mailed check</td>\n",
       "      <td>53.85</td>\n",
       "      <td>108.15</td>\n",
       "      <td>Yes</td>\n",
       "    </tr>\n",
       "  </tbody>\n",
       "</table>\n",
       "<p>3 rows × 21 columns</p>\n",
       "</div>"
      ],
      "text/plain": [
       "   customerID  gender  SeniorCitizen Partner Dependents  tenure PhoneService  \\\n",
       "0  7590-VHVEG  Female              0     Yes         No       1           No   \n",
       "1  5575-GNVDE    Male              0      No         No      34          Yes   \n",
       "2  3668-QPYBK    Male              0      No         No       2          Yes   \n",
       "\n",
       "      MultipleLines InternetService OnlineSecurity  ... DeviceProtection  \\\n",
       "0  No phone service             DSL             No  ...               No   \n",
       "1                No             DSL            Yes  ...              Yes   \n",
       "2                No             DSL            Yes  ...               No   \n",
       "\n",
       "  TechSupport StreamingTV StreamingMovies        Contract PaperlessBilling  \\\n",
       "0          No          No              No  Month-to-month              Yes   \n",
       "1          No          No              No        One year               No   \n",
       "2          No          No              No  Month-to-month              Yes   \n",
       "\n",
       "      PaymentMethod MonthlyCharges  TotalCharges Churn  \n",
       "0  Electronic check          29.85         29.85    No  \n",
       "1      Mailed check          56.95        1889.5    No  \n",
       "2      Mailed check          53.85        108.15   Yes  \n",
       "\n",
       "[3 rows x 21 columns]"
      ]
     },
     "execution_count": 2,
     "metadata": {},
     "output_type": "execute_result"
    }
   ],
   "source": [
    "import pandas as pd\n",
    "import numpy as np\n",
    "\n",
    "df = pd.read_csv('WA_Fn-UseC_-Telco-Customer-Churn.csv')\n",
    "df.head(3)"
   ]
  },
  {
   "cell_type": "markdown",
   "metadata": {
    "id": "5lVI3YukZVDI"
   },
   "source": [
    "##### 1. Какое соотношение мужчин и женщин в представленном наборе данных?"
   ]
  },
  {
   "cell_type": "code",
   "execution_count": 45,
   "metadata": {
    "id": "xmc9xk8jZVDL"
   },
   "outputs": [
    {
     "data": {
      "text/plain": [
       "Male      3555\n",
       "Female    3488\n",
       "Name: gender, dtype: int64"
      ]
     },
     "execution_count": 45,
     "metadata": {},
     "output_type": "execute_result"
    }
   ],
   "source": [
    "#Ваш код здесь\n",
    "df.gender.value_counts()"
   ]
  },
  {
   "cell_type": "code",
   "execution_count": 47,
   "metadata": {},
   "outputs": [
    {
     "data": {
      "text/plain": [
       "1.0192087155963303"
      ]
     },
     "execution_count": 47,
     "metadata": {},
     "output_type": "execute_result"
    }
   ],
   "source": [
    "female = df.gender.loc[df.gender == 'Female'].count()\n",
    "male = df.gender.loc[df.gender == 'Male'].count()\n",
    "male / female"
   ]
  },
  {
   "cell_type": "markdown",
   "metadata": {
    "id": "FXwqmWExZVDN"
   },
   "source": [
    "##### 2. Какое количество уникальных значений у поля InternetService?"
   ]
  },
  {
   "cell_type": "code",
   "execution_count": 48,
   "metadata": {
    "id": "jm6rVxgXZVDR"
   },
   "outputs": [
    {
     "data": {
      "text/plain": [
       "Fiber optic    3096\n",
       "DSL            2421\n",
       "No             1526\n",
       "Name: InternetService, dtype: int64"
      ]
     },
     "execution_count": 48,
     "metadata": {},
     "output_type": "execute_result"
    }
   ],
   "source": [
    "#Ваш код здесь\n",
    "df['InternetService'].value_counts()"
   ]
  },
  {
   "cell_type": "markdown",
   "metadata": {
    "id": "I65wYgfFZVDW"
   },
   "source": [
    "##### 3. Выведите статистики по полю TotalCharges (median, mean, std)."
   ]
  },
  {
   "cell_type": "code",
   "execution_count": 38,
   "metadata": {
    "id": "3vCVt4jCZVDZ"
   },
   "outputs": [
    {
     "data": {
      "text/plain": [
       "count     7043\n",
       "unique    6531\n",
       "top           \n",
       "freq        11\n",
       "Name: TotalCharges, dtype: object"
      ]
     },
     "execution_count": 38,
     "metadata": {},
     "output_type": "execute_result"
    }
   ],
   "source": [
    "#Ваш код здесь\n",
    "df['TotalCharges'].describe()"
   ]
  },
  {
   "cell_type": "markdown",
   "metadata": {
    "id": "5eNrTA5rZVDh"
   },
   "source": [
    "В чем странность того, что вы получили? (подсказка: смотреть нужно на тип данных)"
   ]
  },
  {
   "cell_type": "code",
   "execution_count": 3,
   "metadata": {},
   "outputs": [
    {
     "data": {
      "text/plain": [
       "str"
      ]
     },
     "execution_count": 3,
     "metadata": {},
     "output_type": "execute_result"
    }
   ],
   "source": [
    "type(df.iat[1,19])"
   ]
  },
  {
   "cell_type": "markdown",
   "metadata": {
    "id": "3Puxd-QGZVDk"
   },
   "source": [
    "##### 4. Сделайте замену значений поля PhoneService  на числовые (Yes->1, No->0)"
   ]
  },
  {
   "cell_type": "code",
   "execution_count": 4,
   "metadata": {
    "id": "vzzZHresZVDm"
   },
   "outputs": [
    {
     "name": "stdout",
     "output_type": "stream",
     "text": [
      "0        No\n",
      "1       Yes\n",
      "2       Yes\n",
      "3        No\n",
      "4       Yes\n",
      "       ... \n",
      "7038    Yes\n",
      "7039    Yes\n",
      "7040     No\n",
      "7041    Yes\n",
      "7042    Yes\n",
      "Name: PhoneService, Length: 7043, dtype: object\n"
     ]
    },
    {
     "data": {
      "text/plain": [
       "0       0\n",
       "1       1\n",
       "2       1\n",
       "3       0\n",
       "4       1\n",
       "       ..\n",
       "7038    1\n",
       "7039    1\n",
       "7040    0\n",
       "7041    1\n",
       "7042    1\n",
       "Name: PhoneService, Length: 7043, dtype: int32"
      ]
     },
     "execution_count": 4,
     "metadata": {},
     "output_type": "execute_result"
    }
   ],
   "source": [
    "#Ваш код здесь\n",
    "print(df[\"PhoneService\"])\n",
    "df[\"PhoneService\"]=np.where(df[\"PhoneService\"] == \"Yes\", 1, 0)\n",
    "df[\"PhoneService\"]"
   ]
  },
  {
   "cell_type": "markdown",
   "metadata": {
    "id": "6yGo5lt7ZVDo"
   },
   "source": [
    "##### 5. Сделайте замену пробелов в поле TotalCharges на np.nan и приведите поле к типу данных float32. Затем заполните оставшиеся пропуски значением 0 с помощью метода fillna у столбца. Снова выведите статистики и сравните с тем, что вы видели в вопросе 3"
   ]
  },
  {
   "cell_type": "code",
   "execution_count": 5,
   "metadata": {
    "id": "ujB9E0oqZVDp"
   },
   "outputs": [
    {
     "data": {
      "text/plain": [
       "count    7043.000000\n",
       "mean     2279.732178\n",
       "std      2266.794434\n",
       "min         0.000000\n",
       "25%       398.549988\n",
       "50%      1394.550049\n",
       "75%      3786.599976\n",
       "max      8684.799805\n",
       "Name: TotalCharges, dtype: float64"
      ]
     },
     "execution_count": 5,
     "metadata": {},
     "output_type": "execute_result"
    }
   ],
   "source": [
    "#Ваш код здесь\n",
    "# Замена пробелов в поле TotalCharges на np.nan (если не \" \", то оставляем значение df[\"TotalCharges\"])\n",
    "df[\"TotalCharges\"] = np.where(df[\"TotalCharges\"] == \" \", np.nan, df[\"TotalCharges\"])\n",
    "df[\"TotalCharges\"] = df[\"TotalCharges\"].fillna(0)\n",
    "df[\"TotalCharges\"] = df[\"TotalCharges\"].astype('float32')\n",
    "df['TotalCharges'].describe()"
   ]
  },
  {
   "cell_type": "code",
   "execution_count": 40,
   "metadata": {},
   "outputs": [
    {
     "data": {
      "text/plain": [
       "1394.55"
      ]
     },
     "execution_count": 40,
     "metadata": {},
     "output_type": "execute_result"
    }
   ],
   "source": [
    "df['TotalCharges'].median()"
   ]
  },
  {
   "cell_type": "markdown",
   "metadata": {
    "id": "rXFGZ9rgZVDr"
   },
   "source": [
    "##### 6. Сделайте замену значений поля Churn на числовые (Yes -> 1, No - 0)"
   ]
  },
  {
   "cell_type": "code",
   "execution_count": 68,
   "metadata": {
    "id": "-SE3uL-kZVDw"
   },
   "outputs": [
    {
     "data": {
      "text/plain": [
       "array(['No', 'Yes'], dtype=object)"
      ]
     },
     "execution_count": 68,
     "metadata": {},
     "output_type": "execute_result"
    }
   ],
   "source": [
    "#Ваш код здесь\n",
    "df['Churn'].unique()"
   ]
  },
  {
   "cell_type": "code",
   "execution_count": 69,
   "metadata": {},
   "outputs": [
    {
     "data": {
      "text/plain": [
       "array([0, 1])"
      ]
     },
     "execution_count": 69,
     "metadata": {},
     "output_type": "execute_result"
    }
   ],
   "source": [
    "df['Churn'] = np.where(df['Churn'] == 'Yes', 1, 0)\n",
    "df['Churn'].unique()"
   ]
  },
  {
   "cell_type": "markdown",
   "metadata": {
    "id": "tQxxX1zUZVDx"
   },
   "source": [
    "##### 7. Сделайте замену значений полей StreamingMovies, StreamingTV, TechSupport  на числовые (Yes -> 1, No -> 0, No internet service->0)"
   ]
  },
  {
   "cell_type": "code",
   "execution_count": 70,
   "metadata": {
    "id": "ai8Fh09UZVDz"
   },
   "outputs": [
    {
     "data": {
      "text/html": [
       "<div>\n",
       "<style scoped>\n",
       "    .dataframe tbody tr th:only-of-type {\n",
       "        vertical-align: middle;\n",
       "    }\n",
       "\n",
       "    .dataframe tbody tr th {\n",
       "        vertical-align: top;\n",
       "    }\n",
       "\n",
       "    .dataframe thead th {\n",
       "        text-align: right;\n",
       "    }\n",
       "</style>\n",
       "<table border=\"1\" class=\"dataframe\">\n",
       "  <thead>\n",
       "    <tr style=\"text-align: right;\">\n",
       "      <th></th>\n",
       "      <th>StreamingMovies</th>\n",
       "      <th>StreamingTV</th>\n",
       "      <th>TechSupport</th>\n",
       "    </tr>\n",
       "  </thead>\n",
       "  <tbody>\n",
       "    <tr>\n",
       "      <th>0</th>\n",
       "      <td>0</td>\n",
       "      <td>0</td>\n",
       "      <td>0</td>\n",
       "    </tr>\n",
       "    <tr>\n",
       "      <th>1</th>\n",
       "      <td>0</td>\n",
       "      <td>0</td>\n",
       "      <td>0</td>\n",
       "    </tr>\n",
       "    <tr>\n",
       "      <th>2</th>\n",
       "      <td>0</td>\n",
       "      <td>0</td>\n",
       "      <td>0</td>\n",
       "    </tr>\n",
       "    <tr>\n",
       "      <th>3</th>\n",
       "      <td>0</td>\n",
       "      <td>0</td>\n",
       "      <td>1</td>\n",
       "    </tr>\n",
       "    <tr>\n",
       "      <th>4</th>\n",
       "      <td>0</td>\n",
       "      <td>0</td>\n",
       "      <td>0</td>\n",
       "    </tr>\n",
       "    <tr>\n",
       "      <th>...</th>\n",
       "      <td>...</td>\n",
       "      <td>...</td>\n",
       "      <td>...</td>\n",
       "    </tr>\n",
       "    <tr>\n",
       "      <th>7038</th>\n",
       "      <td>1</td>\n",
       "      <td>1</td>\n",
       "      <td>1</td>\n",
       "    </tr>\n",
       "    <tr>\n",
       "      <th>7039</th>\n",
       "      <td>1</td>\n",
       "      <td>1</td>\n",
       "      <td>0</td>\n",
       "    </tr>\n",
       "    <tr>\n",
       "      <th>7040</th>\n",
       "      <td>0</td>\n",
       "      <td>0</td>\n",
       "      <td>0</td>\n",
       "    </tr>\n",
       "    <tr>\n",
       "      <th>7041</th>\n",
       "      <td>0</td>\n",
       "      <td>0</td>\n",
       "      <td>0</td>\n",
       "    </tr>\n",
       "    <tr>\n",
       "      <th>7042</th>\n",
       "      <td>1</td>\n",
       "      <td>1</td>\n",
       "      <td>1</td>\n",
       "    </tr>\n",
       "  </tbody>\n",
       "</table>\n",
       "<p>7043 rows × 3 columns</p>\n",
       "</div>"
      ],
      "text/plain": [
       "      StreamingMovies  StreamingTV  TechSupport\n",
       "0                   0            0            0\n",
       "1                   0            0            0\n",
       "2                   0            0            0\n",
       "3                   0            0            1\n",
       "4                   0            0            0\n",
       "...               ...          ...          ...\n",
       "7038                1            1            1\n",
       "7039                1            1            0\n",
       "7040                0            0            0\n",
       "7041                0            0            0\n",
       "7042                1            1            1\n",
       "\n",
       "[7043 rows x 3 columns]"
      ]
     },
     "execution_count": 70,
     "metadata": {},
     "output_type": "execute_result"
    }
   ],
   "source": [
    "#Ваш код здесь\n",
    "df[['StreamingMovies', 'StreamingTV', 'TechSupport' ]]"
   ]
  },
  {
   "cell_type": "code",
   "execution_count": 6,
   "metadata": {},
   "outputs": [
    {
     "name": "stdout",
     "output_type": "stream",
     "text": [
      "StreamingMovies  ['No' 'Yes' 'No internet service']\n",
      "StreamingTV  ['No' 'Yes' 'No internet service']\n",
      "TechSupport  ['No' 'Yes' 'No internet service']\n"
     ]
    }
   ],
   "source": [
    "print('StreamingMovies ', df.StreamingMovies.unique())\n",
    "print('StreamingTV ', df.StreamingTV.unique())\n",
    "print('TechSupport ', df.TechSupport.unique())"
   ]
  },
  {
   "cell_type": "code",
   "execution_count": 7,
   "metadata": {},
   "outputs": [],
   "source": [
    "df_list = ['StreamingMovies', 'StreamingTV', 'TechSupport' ]\n",
    "for item in df_list:\n",
    "    df[item] = np.where(df[item] == 'Yes', 1, 0)   "
   ]
  },
  {
   "cell_type": "code",
   "execution_count": 8,
   "metadata": {},
   "outputs": [
    {
     "name": "stdout",
     "output_type": "stream",
     "text": [
      "StreamingMovies  [0 1]\n",
      "StreamingTV  [0 1]\n",
      "TechSupport  [0 1]\n"
     ]
    }
   ],
   "source": [
    "print('StreamingMovies ', df.StreamingMovies.unique())\n",
    "print('StreamingTV ', df.StreamingTV.unique())\n",
    "print('TechSupport ', df.TechSupport.unique())"
   ]
  },
  {
   "cell_type": "markdown",
   "metadata": {
    "id": "aIqWmj4RZVD1"
   },
   "source": [
    "##### 8. Заполните пропуски в поле PhoneService значением 0"
   ]
  },
  {
   "cell_type": "code",
   "execution_count": 74,
   "metadata": {
    "id": "8N8zvLsHZVD3"
   },
   "outputs": [
    {
     "name": "stdout",
     "output_type": "stream",
     "text": [
      "['No' 'Yes']\n",
      "['No' 'Yes']\n"
     ]
    }
   ],
   "source": [
    "#Ваш код здесь\n",
    "print(df[\"PhoneService\"].unique())\n",
    "df[\"PhoneService\"] = df[\"PhoneService\"].fillna(0)\n",
    "print(df[\"PhoneService\"].unique())"
   ]
  },
  {
   "cell_type": "markdown",
   "metadata": {
    "id": "LatJ0ju1ZVD7"
   },
   "source": [
    "##### 8. Для нашего датасета оставьте только указанный ниже список полей, удалив все другие и выведите верхние 3 строки"
   ]
  },
  {
   "cell_type": "code",
   "execution_count": 13,
   "metadata": {
    "id": "WnvPU0o3ZVD-"
   },
   "outputs": [
    {
     "data": {
      "text/html": [
       "<div>\n",
       "<style scoped>\n",
       "    .dataframe tbody tr th:only-of-type {\n",
       "        vertical-align: middle;\n",
       "    }\n",
       "\n",
       "    .dataframe tbody tr th {\n",
       "        vertical-align: top;\n",
       "    }\n",
       "\n",
       "    .dataframe thead th {\n",
       "        text-align: right;\n",
       "    }\n",
       "</style>\n",
       "<table border=\"1\" class=\"dataframe\">\n",
       "  <thead>\n",
       "    <tr style=\"text-align: right;\">\n",
       "      <th></th>\n",
       "      <th>gender</th>\n",
       "      <th>tenure</th>\n",
       "      <th>PhoneService</th>\n",
       "      <th>TotalCharges</th>\n",
       "      <th>StreamingMovies</th>\n",
       "      <th>StreamingTV</th>\n",
       "      <th>TechSupport</th>\n",
       "      <th>Churn</th>\n",
       "    </tr>\n",
       "  </thead>\n",
       "  <tbody>\n",
       "    <tr>\n",
       "      <th>0</th>\n",
       "      <td>Female</td>\n",
       "      <td>1</td>\n",
       "      <td>0</td>\n",
       "      <td>29.850000</td>\n",
       "      <td>0</td>\n",
       "      <td>0</td>\n",
       "      <td>0</td>\n",
       "      <td>No</td>\n",
       "    </tr>\n",
       "    <tr>\n",
       "      <th>1</th>\n",
       "      <td>Male</td>\n",
       "      <td>34</td>\n",
       "      <td>1</td>\n",
       "      <td>1889.500000</td>\n",
       "      <td>0</td>\n",
       "      <td>0</td>\n",
       "      <td>0</td>\n",
       "      <td>No</td>\n",
       "    </tr>\n",
       "    <tr>\n",
       "      <th>2</th>\n",
       "      <td>Male</td>\n",
       "      <td>2</td>\n",
       "      <td>1</td>\n",
       "      <td>108.150002</td>\n",
       "      <td>0</td>\n",
       "      <td>0</td>\n",
       "      <td>0</td>\n",
       "      <td>Yes</td>\n",
       "    </tr>\n",
       "    <tr>\n",
       "      <th>3</th>\n",
       "      <td>Male</td>\n",
       "      <td>45</td>\n",
       "      <td>0</td>\n",
       "      <td>1840.750000</td>\n",
       "      <td>0</td>\n",
       "      <td>0</td>\n",
       "      <td>1</td>\n",
       "      <td>No</td>\n",
       "    </tr>\n",
       "    <tr>\n",
       "      <th>4</th>\n",
       "      <td>Female</td>\n",
       "      <td>2</td>\n",
       "      <td>1</td>\n",
       "      <td>151.649994</td>\n",
       "      <td>0</td>\n",
       "      <td>0</td>\n",
       "      <td>0</td>\n",
       "      <td>Yes</td>\n",
       "    </tr>\n",
       "    <tr>\n",
       "      <th>...</th>\n",
       "      <td>...</td>\n",
       "      <td>...</td>\n",
       "      <td>...</td>\n",
       "      <td>...</td>\n",
       "      <td>...</td>\n",
       "      <td>...</td>\n",
       "      <td>...</td>\n",
       "      <td>...</td>\n",
       "    </tr>\n",
       "    <tr>\n",
       "      <th>7038</th>\n",
       "      <td>Male</td>\n",
       "      <td>24</td>\n",
       "      <td>1</td>\n",
       "      <td>1990.500000</td>\n",
       "      <td>1</td>\n",
       "      <td>1</td>\n",
       "      <td>1</td>\n",
       "      <td>No</td>\n",
       "    </tr>\n",
       "    <tr>\n",
       "      <th>7039</th>\n",
       "      <td>Female</td>\n",
       "      <td>72</td>\n",
       "      <td>1</td>\n",
       "      <td>7362.899902</td>\n",
       "      <td>1</td>\n",
       "      <td>1</td>\n",
       "      <td>0</td>\n",
       "      <td>No</td>\n",
       "    </tr>\n",
       "    <tr>\n",
       "      <th>7040</th>\n",
       "      <td>Female</td>\n",
       "      <td>11</td>\n",
       "      <td>0</td>\n",
       "      <td>346.450012</td>\n",
       "      <td>0</td>\n",
       "      <td>0</td>\n",
       "      <td>0</td>\n",
       "      <td>No</td>\n",
       "    </tr>\n",
       "    <tr>\n",
       "      <th>7041</th>\n",
       "      <td>Male</td>\n",
       "      <td>4</td>\n",
       "      <td>1</td>\n",
       "      <td>306.600006</td>\n",
       "      <td>0</td>\n",
       "      <td>0</td>\n",
       "      <td>0</td>\n",
       "      <td>Yes</td>\n",
       "    </tr>\n",
       "    <tr>\n",
       "      <th>7042</th>\n",
       "      <td>Male</td>\n",
       "      <td>66</td>\n",
       "      <td>1</td>\n",
       "      <td>6844.500000</td>\n",
       "      <td>1</td>\n",
       "      <td>1</td>\n",
       "      <td>1</td>\n",
       "      <td>No</td>\n",
       "    </tr>\n",
       "  </tbody>\n",
       "</table>\n",
       "<p>7043 rows × 8 columns</p>\n",
       "</div>"
      ],
      "text/plain": [
       "      gender  tenure  PhoneService  TotalCharges  StreamingMovies  \\\n",
       "0     Female       1             0     29.850000                0   \n",
       "1       Male      34             1   1889.500000                0   \n",
       "2       Male       2             1    108.150002                0   \n",
       "3       Male      45             0   1840.750000                0   \n",
       "4     Female       2             1    151.649994                0   \n",
       "...      ...     ...           ...           ...              ...   \n",
       "7038    Male      24             1   1990.500000                1   \n",
       "7039  Female      72             1   7362.899902                1   \n",
       "7040  Female      11             0    346.450012                0   \n",
       "7041    Male       4             1    306.600006                0   \n",
       "7042    Male      66             1   6844.500000                1   \n",
       "\n",
       "      StreamingTV  TechSupport Churn  \n",
       "0               0            0    No  \n",
       "1               0            0    No  \n",
       "2               0            0   Yes  \n",
       "3               0            1    No  \n",
       "4               0            0   Yes  \n",
       "...           ...          ...   ...  \n",
       "7038            1            1    No  \n",
       "7039            1            0    No  \n",
       "7040            0            0    No  \n",
       "7041            0            0   Yes  \n",
       "7042            1            1    No  \n",
       "\n",
       "[7043 rows x 8 columns]"
      ]
     },
     "execution_count": 13,
     "metadata": {},
     "output_type": "execute_result"
    }
   ],
   "source": [
    "columns = ['gender', 'tenure', 'PhoneService', 'TotalCharges', \n",
    "           'StreamingMovies', 'StreamingTV', 'TechSupport', 'Churn']\n",
    "#Ваш код здесь\n",
    "df_cut_columns = df[columns]\n",
    "df_cut_columns"
   ]
  },
  {
   "cell_type": "markdown",
   "metadata": {
    "id": "QllKYU_eZVEB"
   },
   "source": [
    "##### 9. Разделите датасет на тренировочную и тестовую выборку."
   ]
  },
  {
   "cell_type": "code",
   "execution_count": 14,
   "metadata": {
    "id": "O2BBQJR_ZVEE"
   },
   "outputs": [],
   "source": [
    "features = ['gender', 'tenure', 'PhoneService', 'TotalCharges', 'StreamingMovies', 'StreamingTV', 'TechSupport']\n",
    "target = 'Churn'\n",
    "#Ваш код здесь\n",
    "from sklearn.model_selection import train_test_split  # функция для деления \n",
    "X_train, X_test, y_train, y_test = train_test_split(df_cut_columns[features], df_cut_columns[target], test_size=0.2, random_state=42)\n"
   ]
  },
  {
   "cell_type": "markdown",
   "metadata": {
    "id": "XSUwcrdOZVEG"
   },
   "source": [
    "##### 10. соберите pipeline для поля gender (нужно разобраться и изучить https://scikit-learn.org/stable/modules/generated/sklearn.pipeline.Pipeline.html ) из классов ColumnSelector и OHEEncoder, которые уже написаны ниже заранее"
   ]
  },
  {
   "cell_type": "code",
   "execution_count": 15,
   "metadata": {
    "id": "tdZ9OCmuZVEH"
   },
   "outputs": [],
   "source": [
    "from sklearn.base import BaseEstimator, TransformerMixin\n",
    "from sklearn.pipeline import Pipeline\n",
    "\n",
    "class ColumnSelector(BaseEstimator, TransformerMixin):\n",
    "    \"\"\"\n",
    "    Transformer to select a single column from the data frame to perform additional transformations on\n",
    "    \"\"\"\n",
    "    def __init__(self, key):\n",
    "        self.key = key\n",
    "\n",
    "    def fit(self, X, y=None):\n",
    "        return self\n",
    "\n",
    "    def transform(self, X):\n",
    "        return X[self.key]\n",
    "    \n",
    "class NumberSelector(BaseEstimator, TransformerMixin):\n",
    "    \"\"\"\n",
    "    Transformer to select a single column from the data frame to perform additional transformations on\n",
    "    Use on numeric columns in the data\n",
    "    \"\"\"\n",
    "    def __init__(self, key):\n",
    "        self.key = key\n",
    "\n",
    "    def fit(self, X, y=None):\n",
    "        return self\n",
    "\n",
    "    def transform(self, X):\n",
    "        return X[[self.key]]\n",
    "    \n",
    "class OHEEncoder(BaseEstimator, TransformerMixin):\n",
    "    def __init__(self, key):\n",
    "        self.key = key\n",
    "        self.columns = []\n",
    "\n",
    "    def fit(self, X, y=None):\n",
    "        self.columns = [col for col in pd.get_dummies(X, prefix=self.key).columns]\n",
    "        return self\n",
    "\n",
    "    def transform(self, X):\n",
    "        X = pd.get_dummies(X, prefix=self.key)\n",
    "        test_columns = [col for col in X.columns]\n",
    "        for col_ in test_columns:\n",
    "            if col_ not in self.columns:\n",
    "                X[col_] = 0\n",
    "        return X[self.columns]\n",
    "\n",
    "#Ваш код здесь\n",
    "\n",
    "gender = Pipeline([\n",
    "     ('selector', ColumnSelector(key='gender')), \n",
    "     ('category', OHEEncoder(key='gender'))\n",
    "],\n",
    "verbose=True)\n"
   ]
  },
  {
   "cell_type": "markdown",
   "metadata": {
    "id": "NzbutVLuZVEN"
   },
   "source": [
    "##### 11. Вызовите метод fit_transform у пайплайна gender и передайте туда нашу тренировочную выборку (пример по ссылке из документации https://scikit-learn.org/stable/modules/generated/sklearn.pipeline.Pipeline.html#sklearn.pipeline.Pipeline.fit)"
   ]
  },
  {
   "cell_type": "code",
   "execution_count": 16,
   "metadata": {
    "id": "dh5YHRjVZVEP"
   },
   "outputs": [
    {
     "name": "stdout",
     "output_type": "stream",
     "text": [
      "[Pipeline] .......... (step 1 of 2) Processing selector, total=   0.0s\n",
      "[Pipeline] .......... (step 2 of 2) Processing category, total=   0.0s\n"
     ]
    },
    {
     "data": {
      "text/html": [
       "<div>\n",
       "<style scoped>\n",
       "    .dataframe tbody tr th:only-of-type {\n",
       "        vertical-align: middle;\n",
       "    }\n",
       "\n",
       "    .dataframe tbody tr th {\n",
       "        vertical-align: top;\n",
       "    }\n",
       "\n",
       "    .dataframe thead th {\n",
       "        text-align: right;\n",
       "    }\n",
       "</style>\n",
       "<table border=\"1\" class=\"dataframe\">\n",
       "  <thead>\n",
       "    <tr style=\"text-align: right;\">\n",
       "      <th></th>\n",
       "      <th>gender_Female</th>\n",
       "      <th>gender_Male</th>\n",
       "    </tr>\n",
       "  </thead>\n",
       "  <tbody>\n",
       "    <tr>\n",
       "      <th>2142</th>\n",
       "      <td>1</td>\n",
       "      <td>0</td>\n",
       "    </tr>\n",
       "    <tr>\n",
       "      <th>1623</th>\n",
       "      <td>1</td>\n",
       "      <td>0</td>\n",
       "    </tr>\n",
       "    <tr>\n",
       "      <th>6074</th>\n",
       "      <td>0</td>\n",
       "      <td>1</td>\n",
       "    </tr>\n",
       "    <tr>\n",
       "      <th>1362</th>\n",
       "      <td>0</td>\n",
       "      <td>1</td>\n",
       "    </tr>\n",
       "    <tr>\n",
       "      <th>6754</th>\n",
       "      <td>0</td>\n",
       "      <td>1</td>\n",
       "    </tr>\n",
       "    <tr>\n",
       "      <th>...</th>\n",
       "      <td>...</td>\n",
       "      <td>...</td>\n",
       "    </tr>\n",
       "    <tr>\n",
       "      <th>3772</th>\n",
       "      <td>0</td>\n",
       "      <td>1</td>\n",
       "    </tr>\n",
       "    <tr>\n",
       "      <th>5191</th>\n",
       "      <td>1</td>\n",
       "      <td>0</td>\n",
       "    </tr>\n",
       "    <tr>\n",
       "      <th>5226</th>\n",
       "      <td>0</td>\n",
       "      <td>1</td>\n",
       "    </tr>\n",
       "    <tr>\n",
       "      <th>5390</th>\n",
       "      <td>0</td>\n",
       "      <td>1</td>\n",
       "    </tr>\n",
       "    <tr>\n",
       "      <th>860</th>\n",
       "      <td>0</td>\n",
       "      <td>1</td>\n",
       "    </tr>\n",
       "  </tbody>\n",
       "</table>\n",
       "<p>5634 rows × 2 columns</p>\n",
       "</div>"
      ],
      "text/plain": [
       "      gender_Female  gender_Male\n",
       "2142              1            0\n",
       "1623              1            0\n",
       "6074              0            1\n",
       "1362              0            1\n",
       "6754              0            1\n",
       "...             ...          ...\n",
       "3772              0            1\n",
       "5191              1            0\n",
       "5226              0            1\n",
       "5390              0            1\n",
       "860               0            1\n",
       "\n",
       "[5634 rows x 2 columns]"
      ]
     },
     "execution_count": 16,
     "metadata": {},
     "output_type": "execute_result"
    }
   ],
   "source": [
    "#Ваш код здесь\n",
    "gender.fit_transform(X_train, y_train)"
   ]
  },
  {
   "cell_type": "markdown",
   "metadata": {
    "id": "er5mJbp-ZVES"
   },
   "source": [
    "##### 12. Здесь код писать уже не нужно (все сделано за вас). К полю tenure применяем StandardScaler (нормируем и центрируем). Ссылка - https://scikit-learn.org/stable/modules/generated/sklearn.preprocessing.StandardScaler.html\n",
    "Вопрос - в каких случаях это может быть полезно?"
   ]
  },
  {
   "cell_type": "code",
   "execution_count": 17,
   "metadata": {
    "id": "-X2wXi9oZVET"
   },
   "outputs": [],
   "source": [
    "from sklearn.preprocessing import StandardScaler\n",
    "\n",
    "tenure =  Pipeline([\n",
    "                ('selector', NumberSelector(key='tenure')),\n",
    "                ('standard', StandardScaler())\n",
    "            ])"
   ]
  },
  {
   "cell_type": "markdown",
   "metadata": {
    "id": "bM_p4uzyZVEV"
   },
   "source": [
    "##### 13. Напишите аналогичный (как для tenure) преобразователь поля TotalCharges"
   ]
  },
  {
   "cell_type": "code",
   "execution_count": 18,
   "metadata": {
    "id": "lPIlQb4IZVEW"
   },
   "outputs": [],
   "source": [
    "#Ваш код здесь\n",
    "from sklearn.preprocessing import StandardScaler\n",
    "\n",
    "TotalCharges =  Pipeline([\n",
    "                ('selector', NumberSelector(key='TotalCharges')),\n",
    "                ('standard', StandardScaler())\n",
    "            ])"
   ]
  },
  {
   "cell_type": "markdown",
   "metadata": {
    "id": "YD7ls6nVZVEY"
   },
   "source": [
    "Объединение всех \"кубиков\" очень легко сделать таким образом"
   ]
  },
  {
   "cell_type": "code",
   "execution_count": 19,
   "metadata": {
    "id": "gdYgsOseZVEZ"
   },
   "outputs": [],
   "source": [
    "from sklearn.pipeline import FeatureUnion\n",
    "\n",
    "number_features = Pipeline([\n",
    "                ('selector', ColumnSelector(key=['PhoneService',\n",
    "                                                 'StreamingMovies', 'StreamingTV', \n",
    "                                                 'TechSupport']))\n",
    "            ])"
   ]
  },
  {
   "cell_type": "code",
   "execution_count": 20,
   "metadata": {
    "id": "amC-8MxdZVEb"
   },
   "outputs": [],
   "source": [
    "feats = FeatureUnion([('tenure', tenure),\n",
    "                      ('TotalCharges', TotalCharges),\n",
    "                      ('continuos_features', number_features),\n",
    "                      ('gender', gender)])\n",
    "feature_processing = Pipeline([('feats', feats)])"
   ]
  },
  {
   "cell_type": "markdown",
   "metadata": {
    "id": "1md10e-rZVEd"
   },
   "source": [
    "На этом этапе что мы сделали:\n",
    "1. написали преобразователь поля gender, который делает OHE кодирование\n",
    "2. написали преобразователь для поля tenure, который нормирует и центрирует его \n",
    "3. повторили п. 2 для поля TotalCharges\n",
    "3. для всех остальных просто взяли признаки как они есть, без изменений"
   ]
  },
  {
   "cell_type": "markdown",
   "metadata": {
    "id": "mU5VQR6hZVEe"
   },
   "source": [
    "У нас уже готов наш пайплайн, который преобразовывает признаки. Давайте обучим модель поверх него. В качестве модели возьмем RandomForestClassifier"
   ]
  },
  {
   "cell_type": "code",
   "execution_count": 21,
   "metadata": {
    "id": "6gFUxbMJ-0og"
   },
   "outputs": [
    {
     "name": "stdout",
     "output_type": "stream",
     "text": [
      "[Pipeline] .......... (step 1 of 2) Processing selector, total=   0.0s\n",
      "[Pipeline] .......... (step 2 of 2) Processing category, total=   0.0s\n"
     ]
    },
    {
     "data": {
      "text/plain": [
       "Pipeline(steps=[('features',\n",
       "                 FeatureUnion(transformer_list=[('tenure',\n",
       "                                                 Pipeline(steps=[('selector',\n",
       "                                                                  NumberSelector(key='tenure')),\n",
       "                                                                 ('standard',\n",
       "                                                                  StandardScaler())])),\n",
       "                                                ('TotalCharges',\n",
       "                                                 Pipeline(steps=[('selector',\n",
       "                                                                  NumberSelector(key='TotalCharges')),\n",
       "                                                                 ('standard',\n",
       "                                                                  StandardScaler())])),\n",
       "                                                ('continuos_features',\n",
       "                                                 Pipeline(steps=[('selector',\n",
       "                                                                  ColumnSelector(key=['PhoneService',\n",
       "                                                                                      'StreamingMovies',\n",
       "                                                                                      'StreamingTV',\n",
       "                                                                                      'TechSupport']))])),\n",
       "                                                ('gender',\n",
       "                                                 Pipeline(steps=[('selector',\n",
       "                                                                  ColumnSelector(key='gender')),\n",
       "                                                                 ('category',\n",
       "                                                                  OHEEncoder(key='gender'))],\n",
       "                                                          verbose=True))])),\n",
       "                ('classifier', RandomForestClassifier(random_state=42))])"
      ]
     },
     "execution_count": 21,
     "metadata": {},
     "output_type": "execute_result"
    }
   ],
   "source": [
    "from sklearn.ensemble import RandomForestClassifier\n",
    "\n",
    "pipeline = Pipeline([\n",
    "    ('features', feats),\n",
    "    ('classifier', RandomForestClassifier(random_state=42)),\n",
    "])\n",
    "\n",
    "pipeline.fit(X_train, y_train)"
   ]
  },
  {
   "cell_type": "markdown",
   "metadata": {
    "id": "CQR5Ql5HZVEh"
   },
   "source": [
    "##### 14. Сделайте прогноз вероятности оттока для X_test с помощью нашего предобученного на предыдущем шаге пайплайна и убедитесь что вам возвращаются вероятности для 2 классов"
   ]
  },
  {
   "cell_type": "code",
   "execution_count": 32,
   "metadata": {
    "id": "WcI9aG5SZVEj"
   },
   "outputs": [
    {
     "data": {
      "text/plain": [
       "array(['Yes', 'No', 'No', ..., 'No', 'No', 'Yes'], dtype=object)"
      ]
     },
     "execution_count": 32,
     "metadata": {},
     "output_type": "execute_result"
    }
   ],
   "source": [
    "#Ваш код здесь\n",
    "outflow = pipeline.predict(X_test)\n",
    "outflow"
   ]
  },
  {
   "cell_type": "code",
   "execution_count": 34,
   "metadata": {},
   "outputs": [],
   "source": [
    "outflow = [1 if  x == 'Yes' else 0 for x in outflow]"
   ]
  },
  {
   "cell_type": "markdown",
   "metadata": {
    "id": "qrB3aG9cZVEj"
   },
   "source": [
    "##### 15. Посчитайте метрики качества получившейся модели (roc_auc)"
   ]
  },
  {
   "cell_type": "code",
   "execution_count": 37,
   "metadata": {
    "id": "vDX9EcbyZVEl"
   },
   "outputs": [
    {
     "data": {
      "text/plain": [
       "0.5"
      ]
     },
     "execution_count": 37,
     "metadata": {},
     "output_type": "execute_result"
    }
   ],
   "source": [
    "from sklearn.metrics import roc_auc_score\n",
    "\n",
    "#Ваш код здесь\n",
    "roc_auc_score(y_test,outflow)"
   ]
  },
  {
   "cell_type": "markdown",
   "metadata": {
    "id": "m7weSS1nZVEm"
   },
   "source": [
    "### Сохраним наш пайплайн"
   ]
  },
  {
   "cell_type": "code",
   "execution_count": 39,
   "metadata": {},
   "outputs": [
    {
     "name": "stdout",
     "output_type": "stream",
     "text": [
      "Collecting dill\n",
      "  Downloading dill-0.3.4-py2.py3-none-any.whl (86 kB)\n",
      "Installing collected packages: dill\n",
      "Successfully installed dill-0.3.4\n",
      "Note: you may need to restart the kernel to use updated packages.\n"
     ]
    }
   ],
   "source": [
    "pip install dill"
   ]
  },
  {
   "cell_type": "code",
   "execution_count": 40,
   "metadata": {
    "id": "3689h2aTZVEm"
   },
   "outputs": [],
   "source": [
    "import dill\n",
    "with open(\"model_RF.dill\", \"wb\") as f:\n",
    "    dill.dump(pipeline, f)"
   ]
  },
  {
   "cell_type": "code",
   "execution_count": null,
   "metadata": {},
   "outputs": [],
   "source": []
  }
 ],
 "metadata": {
  "colab": {
   "collapsed_sections": [],
   "name": "HW1.ipynb",
   "provenance": [],
   "toc_visible": true
  },
  "kernelspec": {
   "display_name": "Python 3",
   "language": "python",
   "name": "python3"
  },
  "language_info": {
   "codemirror_mode": {
    "name": "ipython",
    "version": 3
   },
   "file_extension": ".py",
   "mimetype": "text/x-python",
   "name": "python",
   "nbconvert_exporter": "python",
   "pygments_lexer": "ipython3",
   "version": "3.8.5"
  }
 },
 "nbformat": 4,
 "nbformat_minor": 4
}
