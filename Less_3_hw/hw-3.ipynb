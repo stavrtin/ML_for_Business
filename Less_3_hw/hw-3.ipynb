{
 "cells": [
  {
   "cell_type": "markdown",
   "metadata": {
    "id": "0LadNnJHuTDK"
   },
   "source": [
    "Турчин 1223\n",
    "### ДЗ 3. Связь бизнес-показателей и DS-метрик"
   ]
  },
  {
   "cell_type": "markdown",
   "metadata": {
    "id": "JKqZSl_XuTMT"
   },
   "source": [
    "#### Кейс 2 - определение ССЗ"
   ]
  },
  {
   "cell_type": "markdown",
   "metadata": {
    "id": "PpAgtE3_uTMU"
   },
   "source": [
    "<font color=blue size=4> \n",
    "    <hr>\n",
    "1. Обучить несколько разных моделей на наборе данных ССЗ (train_case2.csv): логрег, бустинг, лес и т.д - на ваш выбор 2-3 варианта <br>\n",
    "2. Вывести сравнение полученных моделей по основным метрикам классификации: pr/rec/auc/f_score (можно в виде таблицы, где строки - модели, а столбцы - метрики)<br>\n",
    "3. Вывести сравнение полученных моделей по метрикам бизнеса по показателям с урока<br>\n",
    "стоимость лечения 15000р, если сделали тест и начали лечить вовремя\n",
    "стоимость лечения 20000р, если упустили и начали лечить когда уже проявились все симптомы\n",
    "стоимость теста 1400р<br>\n",
    "4. Сделать выводы о том, какая модель справилась с задачей лучше других<br>\n",
    "*Найти порог классификации по деньгам для лучшей модели\n",
    "Стоимость лечения 15000р, если сделали тест и начали лечить вовремя\n",
    "Стоимость лечения 20000р, если упустили и начали лечить когда уже проявились все симптомы\n",
    "Стоимость теста 1400р\n",
    "<hr>"
   ]
  },
  {
   "cell_type": "markdown",
   "metadata": {
    "id": "PpAgtE3_uTMU"
   },
   "source": [
    "<font color=black size=4>  \n",
    "РЕШЕНИЕ: \n",
    "1. Обучить несколько разных моделей на наборе данных ССЗ (train_case2.csv)"
   ]
  },
  {
   "cell_type": "code",
   "execution_count": 254,
   "metadata": {},
   "outputs": [],
   "source": [
    "import pandas as pd\n",
    "from sklearn.model_selection import train_test_split \n",
    "from sklearn.pipeline import Pipeline, make_pipeline\n",
    "from sklearn.base import BaseEstimator, TransformerMixin\n",
    "from sklearn.preprocessing import StandardScaler\n",
    "from sklearn.ensemble import RandomForestClassifier\n",
    "from sklearn.linear_model import LogisticRegression\n",
    "from sklearn.ensemble import GradientBoostingClassifier\n",
    "import xgboost as xgb\n",
    "\n",
    "from sklearn.model_selection import cross_val_score, train_test_split\n",
    "from sklearn.metrics import roc_auc_score\n",
    "import numpy as np\n",
    "from sklearn.metrics import precision_recall_curve, roc_curve, roc_auc_score, confusion_matrix\n",
    "import matplotlib.pyplot as plt\n",
    "import seaborn as sns"
   ]
  },
  {
   "cell_type": "code",
   "execution_count": 255,
   "metadata": {},
   "outputs": [],
   "source": [
    "# pip install xgboost"
   ]
  },
  {
   "cell_type": "code",
   "execution_count": 256,
   "metadata": {
    "colab": {
     "base_uri": "https://localhost:8080/",
     "height": 200
    },
    "id": "eyWhvm-wuTMl",
    "outputId": "44ae2ea7-c372-401f-edcb-9625ed5aad99"
   },
   "outputs": [
    {
     "data": {
      "text/html": [
       "<div>\n",
       "<style scoped>\n",
       "    .dataframe tbody tr th:only-of-type {\n",
       "        vertical-align: middle;\n",
       "    }\n",
       "\n",
       "    .dataframe tbody tr th {\n",
       "        vertical-align: top;\n",
       "    }\n",
       "\n",
       "    .dataframe thead th {\n",
       "        text-align: right;\n",
       "    }\n",
       "</style>\n",
       "<table border=\"1\" class=\"dataframe\">\n",
       "  <thead>\n",
       "    <tr style=\"text-align: right;\">\n",
       "      <th></th>\n",
       "      <th>id</th>\n",
       "      <th>age</th>\n",
       "      <th>gender</th>\n",
       "      <th>height</th>\n",
       "      <th>weight</th>\n",
       "      <th>ap_hi</th>\n",
       "      <th>ap_lo</th>\n",
       "      <th>cholesterol</th>\n",
       "      <th>gluc</th>\n",
       "      <th>smoke</th>\n",
       "      <th>alco</th>\n",
       "      <th>active</th>\n",
       "      <th>cardio</th>\n",
       "    </tr>\n",
       "  </thead>\n",
       "  <tbody>\n",
       "    <tr>\n",
       "      <th>0</th>\n",
       "      <td>0</td>\n",
       "      <td>18393</td>\n",
       "      <td>2</td>\n",
       "      <td>168</td>\n",
       "      <td>62.0</td>\n",
       "      <td>110</td>\n",
       "      <td>80</td>\n",
       "      <td>1</td>\n",
       "      <td>1</td>\n",
       "      <td>0</td>\n",
       "      <td>0</td>\n",
       "      <td>1</td>\n",
       "      <td>0</td>\n",
       "    </tr>\n",
       "    <tr>\n",
       "      <th>1</th>\n",
       "      <td>1</td>\n",
       "      <td>20228</td>\n",
       "      <td>1</td>\n",
       "      <td>156</td>\n",
       "      <td>85.0</td>\n",
       "      <td>140</td>\n",
       "      <td>90</td>\n",
       "      <td>3</td>\n",
       "      <td>1</td>\n",
       "      <td>0</td>\n",
       "      <td>0</td>\n",
       "      <td>1</td>\n",
       "      <td>1</td>\n",
       "    </tr>\n",
       "    <tr>\n",
       "      <th>2</th>\n",
       "      <td>2</td>\n",
       "      <td>18857</td>\n",
       "      <td>1</td>\n",
       "      <td>165</td>\n",
       "      <td>64.0</td>\n",
       "      <td>130</td>\n",
       "      <td>70</td>\n",
       "      <td>3</td>\n",
       "      <td>1</td>\n",
       "      <td>0</td>\n",
       "      <td>0</td>\n",
       "      <td>0</td>\n",
       "      <td>1</td>\n",
       "    </tr>\n",
       "  </tbody>\n",
       "</table>\n",
       "</div>"
      ],
      "text/plain": [
       "   id    age  gender  height  weight  ap_hi  ap_lo  cholesterol  gluc  smoke  \\\n",
       "0   0  18393       2     168    62.0    110     80            1     1      0   \n",
       "1   1  20228       1     156    85.0    140     90            3     1      0   \n",
       "2   2  18857       1     165    64.0    130     70            3     1      0   \n",
       "\n",
       "   alco  active  cardio  \n",
       "0     0       1       0  \n",
       "1     0       1       1  \n",
       "2     0       0       1  "
      ]
     },
     "execution_count": 256,
     "metadata": {},
     "output_type": "execute_result"
    }
   ],
   "source": [
    "# Загружаем данные\n",
    "df = pd.read_csv('train_case2.csv', ';')\n",
    "df.head(3)"
   ]
  },
  {
   "cell_type": "markdown",
   "metadata": {
    "id": "mslyI3rkuTMq"
   },
   "source": [
    "Разделим наши данные на тренировочную и тестовую выборки"
   ]
  },
  {
   "cell_type": "code",
   "execution_count": 257,
   "metadata": {
    "id": "8y5FPlYsuTMw"
   },
   "outputs": [],
   "source": [
    "# разделим данные на train/test \n",
    "# cardio в роли целевой\n",
    "X_train, X_test, y_train, y_test = train_test_split(df.drop(columns='cardio'), df['cardio'], random_state=0)"
   ]
  },
  {
   "cell_type": "markdown",
   "metadata": {
    "id": "iz0zpgeQuTMx"
   },
   "source": [
    "К полям:\n",
    "- gender, cholesterol применим OHE-кодирование\n",
    "- age, height, weight, ap_hi, ap_lo - standardScaler\n",
    "- gluc, smoke, alco, active - оставим пока как есть"
   ]
  },
  {
   "cell_type": "code",
   "execution_count": 258,
   "metadata": {
    "id": "NZzwZ0DzuTM6"
   },
   "outputs": [],
   "source": [
    "class ColumnSelector(BaseEstimator, TransformerMixin):\n",
    "    \"\"\"\n",
    "    Transformer to select a single column from the data frame to perform additional transformations on\n",
    "    \"\"\"\n",
    "    def __init__(self, key):\n",
    "        self.key = key\n",
    "\n",
    "    def fit(self, X, y=None):\n",
    "        return self\n",
    "\n",
    "    def transform(self, X):\n",
    "        return X[self.key]\n",
    "    \n",
    "class NumberSelector(BaseEstimator, TransformerMixin):\n",
    "    \"\"\"\n",
    "    Transformer to select a single column from the data frame to perform additional transformations on\n",
    "    Use on numeric columns in the data\n",
    "    \"\"\"\n",
    "    def __init__(self, key):\n",
    "        self.key = key\n",
    "\n",
    "    def fit(self, X, y=None):\n",
    "        return self\n",
    "\n",
    "    def transform(self, X):\n",
    "        return X[[self.key]]\n",
    "    \n",
    "class OHEEncoder(BaseEstimator, TransformerMixin):\n",
    "    def __init__(self, key):\n",
    "        self.key = key\n",
    "        self.columns = []\n",
    "\n",
    "    def fit(self, X, y=None):\n",
    "        self.columns = [col for col in pd.get_dummies(X, prefix=self.key).columns]\n",
    "        return self\n",
    "\n",
    "    def transform(self, X):\n",
    "        X = pd.get_dummies(X, prefix=self.key)\n",
    "        test_columns = [col for col in X.columns]\n",
    "        for col_ in self.columns:\n",
    "            if col_ not in test_columns:\n",
    "                X[col_] = 0\n",
    "        return X[self.columns]\n",
    "\n",
    "\n",
    "continuos_cols = ['age', 'height', 'weight', 'ap_hi', 'ap_lo']\n",
    "cat_cols = ['gender', 'cholesterol']\n",
    "base_cols = ['gluc', 'smoke', 'alco', 'active']\n",
    "\n",
    "continuos_transformers = []\n",
    "cat_transformers = []\n",
    "base_transformers = []\n",
    "\n",
    "for cont_col in continuos_cols:\n",
    "    transfomer =  Pipeline([\n",
    "                ('selector', NumberSelector(key=cont_col)),\n",
    "                ('standard', StandardScaler())\n",
    "            ])\n",
    "    continuos_transformers.append((cont_col, transfomer))\n",
    "    \n",
    "for cat_col in cat_cols:\n",
    "    cat_transformer = Pipeline([\n",
    "                ('selector', ColumnSelector(key=cat_col)),\n",
    "                ('ohe', OHEEncoder(key=cat_col))\n",
    "            ])\n",
    "    cat_transformers.append((cat_col, cat_transformer))\n",
    "    \n",
    "for base_col in base_cols:\n",
    "    base_transformer = Pipeline([\n",
    "                ('selector', NumberSelector(key=base_col))\n",
    "            ])\n",
    "    base_transformers.append((base_col, base_transformer))"
   ]
  },
  {
   "cell_type": "code",
   "execution_count": 259,
   "metadata": {
    "colab": {
     "base_uri": "https://localhost:8080/"
    },
    "id": "UrSLisPTuTNE",
    "outputId": "1fee1aa5-9fb4-4cc7-caf9-4e578c993913"
   },
   "outputs": [],
   "source": [
    "# Теперь объединим все наши трансформеры с помощью FeatureUnion\n",
    "\n",
    "from sklearn.pipeline import FeatureUnion\n",
    "\n",
    "feats = FeatureUnion(continuos_transformers+cat_transformers+base_transformers)\n",
    "feature_processing = Pipeline([('feats', feats)])"
   ]
  },
  {
   "cell_type": "code",
   "execution_count": 260,
   "metadata": {},
   "outputs": [],
   "source": [
    "import warnings\n",
    "warnings.filterwarnings('ignore')"
   ]
  },
  {
   "cell_type": "code",
   "execution_count": 261,
   "metadata": {},
   "outputs": [],
   "source": [
    "def take_model(X_train, X_test, y_train, type_model, data_feats):\n",
    "    '''Функция рассчета predict & metrics для различных моделей '''\n",
    "    \n",
    "    classifier = Pipeline([\n",
    "        ('features', data_feats),\n",
    "        ('classifier', type_model(random_state=42)),\n",
    "    ])\n",
    "\n",
    "    # обучим пайплайн на всем тренировочном датасете\n",
    "    classifier.fit(X_train, y_train)\n",
    "    predict = classifier.predict_proba(X_test)[:, 1]\n",
    "    \n",
    "    return predict"
   ]
  },
  {
   "cell_type": "code",
   "execution_count": 262,
   "metadata": {},
   "outputs": [],
   "source": [
    "def calculate_metrics(model_predict):\n",
    "    '''Функция рассчета метрик для различных моделей'''\n",
    "    \n",
    "    b = 1\n",
    "    precision, recall, thresholds = precision_recall_curve(y_test.values, model_predict)\n",
    "    fscore = (1 +b**2) * (precision * recall) / (b**2 * precision + recall)\n",
    "    # locate the index of the largest f score\n",
    "    ix = np.argmax(fscore)\n",
    "    roc_auc = roc_auc_score(y_test, model_predict)\n",
    "#     print(f'Best Threshold={round(thresholds[ix],3)}, F-Score={fscore[ix]:.3f}, Precision={precision[ix]:.3f}, Recall={recall[ix]:.3f}, ROC AUC={roc_auc} ')\n",
    "    return thresholds[ix], fscore[ix], precision[ix], recall[ix], roc_auc"
   ]
  },
  {
   "cell_type": "code",
   "execution_count": 263,
   "metadata": {},
   "outputs": [],
   "source": [
    "xgb.set_config(verbosity=0)"
   ]
  },
  {
   "cell_type": "markdown",
   "metadata": {},
   "source": [
    "<font color=blue size=4> \n",
    "    <hr>\n",
    "2. Вывести сравнение полученных моделей по основным метрикам классификации: pr/rec/auc/f_score (можно в виде таблицы, где строки - модели, а столбцы - метрики)\n",
    "       <hr>"
   ]
  },
  {
   "cell_type": "code",
   "execution_count": 264,
   "metadata": {},
   "outputs": [
    {
     "name": "stdout",
     "output_type": "stream",
     "text": [
      "Для  LogisticRegression\n",
      "Best Threshold=0.387, F-Score=0.73, Precision=0.647, Recall=0.838, ROC AUC=0.784\n",
      "--------------------\n",
      "Для  RandomForestClassifier\n",
      "Best Threshold=0.35, F-Score=0.719, Precision=0.643, Recall=0.816, ROC AUC=0.771\n",
      "--------------------\n",
      "Для  XGBoost\n",
      "Best Threshold=0.34700000286102295, F-Score=0.738, Precision=0.665, Recall=0.828, ROC AUC=0.797\n",
      "--------------------\n",
      "Для  GRBoost\n",
      "Best Threshold=0.395, F-Score=0.74, Precision=0.698, Recall=0.788, ROC AUC=0.803\n",
      "--------------------\n"
     ]
    }
   ],
   "source": [
    "# Для  LogisticRegression\n",
    "print('Для  LogisticRegression')\n",
    "model_LogReg_predict = take_model(X_train, X_test, y_train, LogisticRegression, feats)\n",
    "calculate = calculate_metrics(model_LogReg_predict)\n",
    "print(f'Best Threshold={round(calculate[0],3)}, F-Score={round(calculate[1],3)}, Precision={round(calculate[2],3)}, Recall={round(calculate[3],3)}, ROC AUC={round(calculate[4],3)}') \n",
    "print('----'*5)\n",
    "\n",
    "print('Для  RandomForestClassifier')\n",
    "model_RandomForestClassifier = take_model(X_train, X_test, y_train, RandomForestClassifier, feats)\n",
    "calculate = calculate_metrics(model_RandomForestClassifier)\n",
    "print(f'Best Threshold={round(calculate[0],3)}, F-Score={round(calculate[1],3)}, Precision={round(calculate[2],3)}, Recall={round(calculate[3],3)}, ROC AUC={round(calculate[4],3)}') \n",
    "print('----'*5)\n",
    "\n",
    "print('Для  XGBoost')\n",
    "model_XGB_predict = take_model(X_train, X_test, y_train, xgb.XGBClassifier, feats)\n",
    "calculate = calculate_metrics(model_XGB_predict)\n",
    "print(f'Best Threshold={round(calculate[0],3)}, F-Score={round(calculate[1],3)}, Precision={round(calculate[2],3)}, Recall={round(calculate[3],3)}, ROC AUC={round(calculate[4],3)}') \n",
    "print('----'*5)\n",
    "\n",
    "print('Для  GRBoost')\n",
    "model_GRBoost_predict = take_model(X_train, X_test, y_train, GradientBoostingClassifier, feats)\n",
    "calculate = calculate_metrics(model_GRBoost_predict)\n",
    "print(f'Best Threshold={round(calculate[0],3)}, F-Score={round(calculate[1],3)}, Precision={round(calculate[2],3)}, Recall={round(calculate[3],3)}, ROC AUC={round(calculate[4],3)}') \n",
    "print('----'*5)\n"
   ]
  },
  {
   "cell_type": "code",
   "execution_count": 265,
   "metadata": {},
   "outputs": [
    {
     "data": {
      "text/html": [
       "<div>\n",
       "<style scoped>\n",
       "    .dataframe tbody tr th:only-of-type {\n",
       "        vertical-align: middle;\n",
       "    }\n",
       "\n",
       "    .dataframe tbody tr th {\n",
       "        vertical-align: top;\n",
       "    }\n",
       "\n",
       "    .dataframe thead th {\n",
       "        text-align: right;\n",
       "    }\n",
       "</style>\n",
       "<table border=\"1\" class=\"dataframe\">\n",
       "  <thead>\n",
       "    <tr style=\"text-align: right;\">\n",
       "      <th></th>\n",
       "      <th>model</th>\n",
       "      <th>thresh</th>\n",
       "      <th>F-Score</th>\n",
       "      <th>Precision</th>\n",
       "      <th>Recall</th>\n",
       "      <th>ROC AUC</th>\n",
       "    </tr>\n",
       "  </thead>\n",
       "  <tbody>\n",
       "    <tr>\n",
       "      <th>0</th>\n",
       "      <td>LogReg</td>\n",
       "      <td>0.386937</td>\n",
       "      <td>0.730323</td>\n",
       "      <td>0.647431</td>\n",
       "      <td>0.837558</td>\n",
       "      <td>0.784035</td>\n",
       "    </tr>\n",
       "    <tr>\n",
       "      <th>1</th>\n",
       "      <td>RandomForestClassifier</td>\n",
       "      <td>0.35</td>\n",
       "      <td>0.718863</td>\n",
       "      <td>0.642669</td>\n",
       "      <td>0.815553</td>\n",
       "      <td>0.771037</td>\n",
       "    </tr>\n",
       "    <tr>\n",
       "      <th>2</th>\n",
       "      <td>XGB</td>\n",
       "      <td>0.347103</td>\n",
       "      <td>0.73789</td>\n",
       "      <td>0.665248</td>\n",
       "      <td>0.828341</td>\n",
       "      <td>0.797228</td>\n",
       "    </tr>\n",
       "    <tr>\n",
       "      <th>3</th>\n",
       "      <td>GRBoost</td>\n",
       "      <td>0.394947</td>\n",
       "      <td>0.740248</td>\n",
       "      <td>0.697848</td>\n",
       "      <td>0.788134</td>\n",
       "      <td>0.802615</td>\n",
       "    </tr>\n",
       "  </tbody>\n",
       "</table>\n",
       "</div>"
      ],
      "text/plain": [
       "                    model    thresh   F-Score Precision    Recall   ROC AUC\n",
       "0                  LogReg  0.386937  0.730323  0.647431  0.837558  0.784035\n",
       "1  RandomForestClassifier      0.35  0.718863  0.642669  0.815553  0.771037\n",
       "2                     XGB  0.347103   0.73789  0.665248  0.828341  0.797228\n",
       "3                 GRBoost  0.394947  0.740248  0.697848  0.788134  0.802615"
      ]
     },
     "execution_count": 265,
     "metadata": {},
     "output_type": "execute_result"
    }
   ],
   "source": [
    "metrics_df = pd.DataFrame(columns=['model', 'thresh', 'F-Score', 'Precision', 'Recall', 'ROC AUC'])\n",
    "model_ = [model_LogReg_predict, model_RandomForestClassifier, model_XGB_predict, model_GRBoost_predict]\n",
    "name = ['LogReg', 'RandomForestClassifier', 'XGB', 'GRBoost']\n",
    "for item in range(4):\n",
    "    metrics_df = metrics_df.append({\n",
    "        'model': name[item],\n",
    "        'thresh': calculate_metrics(model_[item])[0],\n",
    "        'F-Score': calculate_metrics(model_[item])[1],\n",
    "        'Precision': calculate_metrics(model_[item])[2],\n",
    "        'Recall': calculate_metrics(model_[item])[3],\n",
    "        'ROC AUC': calculate_metrics(model_[item])[4],\n",
    "    }, ignore_index=True)\n",
    "\n",
    "metrics_df"
   ]
  },
  {
   "cell_type": "markdown",
   "metadata": {},
   "source": [
    "<font color=blue size=4> \n",
    "    <hr>\n",
    "3. Вывести сравнение полученных моделей по метрикам бизнеса <br>\n",
    " - стоимость лечения 15000р, если сделали тест и начали лечить вовремя <br>\n",
    " - стоимость лечения 20000р, если упустили и начали лечить когда уже проявились все симптомы <br>\n",
    "   - стоимость теста 1400р\n",
    "       <hr>"
   ]
  },
  {
   "cell_type": "markdown",
   "metadata": {},
   "source": [
    "Пусть:\n",
    "- стоимость лечения 15000р, если сделали тест и начали лечить вовремя\n",
    "- стоимость лечения 20000р, если упустили и начали лечить когда уже проявились все симптомы\n",
    "- стоимость теста 1400р"
   ]
  },
  {
   "cell_type": "code",
   "execution_count": 267,
   "metadata": {},
   "outputs": [],
   "source": [
    "test_rub = 1400\n",
    "early_treatment_rub = 15000\n",
    "late_treatment_rub = 20000"
   ]
  },
  {
   "cell_type": "markdown",
   "metadata": {},
   "source": [
    "Оценим расходы, если применить модели:\n",
    "(FP + TP) * test_rub - сколько сделали тестов\n",
    "FN * late_treatment_rub - сколько потратили на лечение необнаруженных заболеваний\n",
    "TP * early_treatment_rub - сколько потратили на лечение обнаруженных заболеваний (на ранней стадии)"
   ]
  },
  {
   "cell_type": "code",
   "execution_count": 268,
   "metadata": {},
   "outputs": [],
   "source": [
    "# Надо посчитать для каждой модели \n",
    "# ML_rub = (FP + TP) * test_rub + FN * late_treatment_rub + TP * early_treatment_rub\n",
    "TN = cnf_matrix[0][0]\n",
    "FN = cnf_matrix[1][0]\n",
    "TP = cnf_matrix[1][1]\n",
    "FP = cnf_matrix[0][1]"
   ]
  },
  {
   "cell_type": "code",
   "execution_count": 269,
   "metadata": {},
   "outputs": [],
   "source": [
    "metrics_df_rub = pd.DataFrame(columns=['model', 'thresh', 'F-Score', 'Precision', 'Recall', 'ROC AUC', 'Total_rub'])"
   ]
  },
  {
   "cell_type": "code",
   "execution_count": 270,
   "metadata": {},
   "outputs": [
    {
     "data": {
      "text/html": [
       "<div>\n",
       "<style scoped>\n",
       "    .dataframe tbody tr th:only-of-type {\n",
       "        vertical-align: middle;\n",
       "    }\n",
       "\n",
       "    .dataframe tbody tr th {\n",
       "        vertical-align: top;\n",
       "    }\n",
       "\n",
       "    .dataframe thead th {\n",
       "        text-align: right;\n",
       "    }\n",
       "</style>\n",
       "<table border=\"1\" class=\"dataframe\">\n",
       "  <thead>\n",
       "    <tr style=\"text-align: right;\">\n",
       "      <th></th>\n",
       "      <th>model</th>\n",
       "      <th>thresh</th>\n",
       "      <th>F-Score</th>\n",
       "      <th>Precision</th>\n",
       "      <th>Recall</th>\n",
       "      <th>ROC AUC</th>\n",
       "      <th>Total_rub</th>\n",
       "    </tr>\n",
       "  </thead>\n",
       "  <tbody>\n",
       "    <tr>\n",
       "      <th>0</th>\n",
       "      <td>LogReg</td>\n",
       "      <td>0.386937</td>\n",
       "      <td>0.730323</td>\n",
       "      <td>0.647431</td>\n",
       "      <td>0.837558</td>\n",
       "      <td>0.784035</td>\n",
       "      <td>152974200</td>\n",
       "    </tr>\n",
       "    <tr>\n",
       "      <th>1</th>\n",
       "      <td>RandomForestClassifier</td>\n",
       "      <td>0.35</td>\n",
       "      <td>0.718863</td>\n",
       "      <td>0.642669</td>\n",
       "      <td>0.815553</td>\n",
       "      <td>0.771037</td>\n",
       "      <td>153699400</td>\n",
       "    </tr>\n",
       "    <tr>\n",
       "      <th>2</th>\n",
       "      <td>XGB</td>\n",
       "      <td>0.347103</td>\n",
       "      <td>0.73789</td>\n",
       "      <td>0.665248</td>\n",
       "      <td>0.828341</td>\n",
       "      <td>0.797228</td>\n",
       "      <td>152784800</td>\n",
       "    </tr>\n",
       "    <tr>\n",
       "      <th>3</th>\n",
       "      <td>GRBoost</td>\n",
       "      <td>0.394947</td>\n",
       "      <td>0.740248</td>\n",
       "      <td>0.697848</td>\n",
       "      <td>0.788134</td>\n",
       "      <td>0.802615</td>\n",
       "      <td>153122800</td>\n",
       "    </tr>\n",
       "  </tbody>\n",
       "</table>\n",
       "</div>"
      ],
      "text/plain": [
       "                    model    thresh   F-Score Precision    Recall   ROC AUC  \\\n",
       "0                  LogReg  0.386937  0.730323  0.647431  0.837558  0.784035   \n",
       "1  RandomForestClassifier      0.35  0.718863  0.642669  0.815553  0.771037   \n",
       "2                     XGB  0.347103   0.73789  0.665248  0.828341  0.797228   \n",
       "3                 GRBoost  0.394947  0.740248  0.697848  0.788134  0.802615   \n",
       "\n",
       "   Total_rub  \n",
       "0  152974200  \n",
       "1  153699400  \n",
       "2  152784800  \n",
       "3  153122800  "
      ]
     },
     "execution_count": 270,
     "metadata": {},
     "output_type": "execute_result"
    }
   ],
   "source": [
    "metrics_df_rub = pd.DataFrame(columns=['model', 'thresh', 'F-Score', 'Precision', 'Recall', 'ROC AUC', 'Total_rub'])\n",
    "model_ = [model_LogReg_predict, model_RandomForestClassifier, model_XGB_predict, model_GRBoost_predict]\n",
    "name = ['LogReg', 'RandomForestClassifier', 'XGB', 'GRBoost']\n",
    "for item in range(4):\n",
    "    \n",
    "    cnf_matrix = confusion_matrix(y_test, model_[item] > calculate_metrics(model_[item])[0])\n",
    "    TN = cnf_matrix[0][0]\n",
    "    FN = cnf_matrix[1][0]\n",
    "    TP = cnf_matrix[1][1]\n",
    "    FP = cnf_matrix[0][1]\n",
    "    ML_rub = (FP + TP) * test_rub + FN * late_treatment_rub + TP * early_treatment_rub\n",
    "    \n",
    "    metrics_df_rub = metrics_df_rub.append({\n",
    "        'model': name[item],\n",
    "        'thresh': calculate_metrics(model_[item])[0],\n",
    "        'F-Score': calculate_metrics(model_[item])[1],\n",
    "        'Precision': calculate_metrics(model_[item])[2],\n",
    "        'Recall': calculate_metrics(model_[item])[3],\n",
    "        'ROC AUC': calculate_metrics(model_[item])[4],\n",
    "        'Total_rub': ML_rub\n",
    "    }, ignore_index=True)\n",
    "\n",
    "metrics_df_rub"
   ]
  },
  {
   "cell_type": "markdown",
   "metadata": {},
   "source": [
    "<font color=blue size=4> \n",
    "    <hr>\n",
    "4. Сделать выводы о том, какая модель справилась с задачей лучше других<br>\n"
   ]
  },
  {
   "cell_type": "markdown",
   "metadata": {},
   "source": [
    "#### Судя по таблице лучше справилась модель XGBoost"
   ]
  },
  {
   "cell_type": "markdown",
   "metadata": {},
   "source": [
    "<font color=blue size=4> \n",
    "    <hr>\n",
    "*Найти порог классификации по деньгам для лучшей модели <br> Стоимость лечения 15000р, если сделали тест и начали лечить вовремя <br>Стоимость лечения 20000р, если упустили и начали лечить когда уже проявились все симптомы<br> Стоимость теста 1400р\n",
    "       <hr>\n"
   ]
  },
  {
   "cell_type": "markdown",
   "metadata": {
    "id": "UDKtpiI6RCxU"
   },
   "source": [
    "\n",
    "\n",
    "Метрика по деньгам : получить меньше расходов чем при полном тесте"
   ]
  },
  {
   "cell_type": "code",
   "execution_count": 271,
   "metadata": {
    "id": "wUdTFxtaRFOn"
   },
   "outputs": [],
   "source": [
    "def business_threshold_calibrate(y_test, y_score, thresholds,\n",
    "                                 test_rub, early_treatment_rub, late_treatment_rub):\n",
    "    business_threshold = 0\n",
    "    r_test_all_r_ML_ = 0\n",
    "\n",
    "    rubl_ML_ = 1_000_000_000 \n",
    "\n",
    "    rs = []\n",
    "    n = 20\n",
    "    for opt_buisness_tr in np.linspace(0, 1, n).tolist():\n",
    "        # подберем порог для улучшения бизнесс показателя\n",
    "\n",
    "        cnf_matrix = confusion_matrix(y_test, y_score > (opt_buisness_tr))\n",
    "        TN = cnf_matrix[0][0]\n",
    "        FN = cnf_matrix[1][0]\n",
    "        TP = cnf_matrix[1][1]\n",
    "        FP = cnf_matrix[0][1]\n",
    "\n",
    "        rubl_1 = (TP + FN) * late_treatment_rub\n",
    "        rubl_test_all = np.sum(cnf_matrix) * test_rub + (FN + TP) * early_treatment_rub\n",
    "        rubl_ML = (TP + FP) * test_rub + FN * late_treatment_rub + TP * early_treatment_rub\n",
    "        \n",
    "        r_test_all_r_ML = rubl_test_all - rubl_ML \n",
    "        \n",
    "        if rubl_ML < rubl_ML_:            \n",
    "            business_threshold = opt_buisness_tr\n",
    "            \n",
    "            rubl_ML_ = rubl_ML\n",
    "            \n",
    "        rs.append(rubl_ML)   \n",
    "            \n",
    "    \n",
    "    print('расходы, если не делать тест и ждать симптомов:', rubl_1)\n",
    "    print('расходы, если делать тест всем и лечить группу больных:', rubl_test_all)\n",
    "    print('расходы, если использовать МЛ:', rubl_ML_)\n",
    "\n",
    "    print('Расходы \"решение не делать тесты - расходы с МL:\"', rubl_1 - rubl_ML_)\n",
    "    print('Расходы \"решение не делать тесты - расходы сделать тесты всем\":', rubl_1 - rubl_test_all)\n",
    "    print('Расходы \"сделать тесты всем - решение делать тесты ML\":', rubl_test_all - rubl_ML_)\n",
    "    \n",
    "    plt.title('Потери при МЛ решении')\n",
    "    plt.xlabel('Отсечка')\n",
    "    plt.ylabel('Потери')\n",
    "    plt.plot(np.linspace(0,1,n), rs)\n",
    "    plt.show()\n",
    "    return business_threshold"
   ]
  },
  {
   "cell_type": "code",
   "execution_count": 272,
   "metadata": {
    "colab": {
     "base_uri": "https://localhost:8080/",
     "height": 457
    },
    "id": "Melr9xD4RGw8",
    "outputId": "ba66147f-1722-493f-a4c3-5ada42bb93be"
   },
   "outputs": [
    {
     "name": "stdout",
     "output_type": "stream",
     "text": [
      "расходы, если не делать тест и ждать симптомов: 173600000\n",
      "расходы, если делать тест всем и лечить группу больных: 154700000\n",
      "расходы, если использовать МЛ: 152509800\n",
      "Расходы \"решение не делать тесты - расходы с МL:\" 21090200\n",
      "Расходы \"решение не делать тесты - расходы сделать тесты всем\": 18900000\n",
      "Расходы \"сделать тесты всем - решение делать тесты ML\": 2190200\n"
     ]
    },
    {
     "data": {
      "image/png": "[encoded data removed]",
      "text/plain": [
       "<Figure size 432x288 with 1 Axes>"
      ]
     },
     "metadata": {
      "needs_background": "light"
     },
     "output_type": "display_data"
    },
    {
     "name": "stdout",
     "output_type": "stream",
     "text": [
      "уровень порога по бизнес метрике 0.2631578947368421\n",
      "уровень порога по f1 метрике 0.39494659702686624\n"
     ]
    }
   ],
   "source": [
    "busines_tr = business_threshold_calibrate(y_test, model_XGB_predict, \n",
    "                                          calculate_metrics(model_XGB_predict)[0],\n",
    "                                          test_rub=1400, \n",
    "                                          early_treatment_rub=15000, \n",
    "                                          late_treatment_rub=20000)\n",
    "\n",
    "print('уровень порога по бизнес метрике', busines_tr)\n",
    "print('уровень порога по f1 метрике', calculate_metrics(model_[item])[0])"
   ]
  }
 ],
 "metadata": {
  "colab": {
   "collapsed_sections": [],
   "name": "Lesson 3.ipynb",
   "provenance": [],
   "toc_visible": true
  },
  "kernelspec": {
   "display_name": "Python 3",
   "language": "python",
   "name": "python3"
  },
  "language_info": {
   "codemirror_mode": {
    "name": "ipython",
    "version": 3
   },
   "file_extension": ".py",
   "mimetype": "text/x-python",
   "name": "python",
   "nbconvert_exporter": "python",
   "pygments_lexer": "ipython3",
   "version": "3.8.5"
  }
 },
 "nbformat": 4,
 "nbformat_minor": 4
}
