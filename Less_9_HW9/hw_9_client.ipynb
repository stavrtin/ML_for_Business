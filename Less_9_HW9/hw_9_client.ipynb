{
 "cells": [
  {
   "cell_type": "markdown",
   "metadata": {
    "id": "mCvG3HpmbRKo"
   },
   "source": [
    "Строим запрос к нашему сервису"
   ]
  },
  {
   "cell_type": "code",
   "execution_count": 13,
   "metadata": {
    "id": "Cxm28pii80xp"
   },
   "outputs": [],
   "source": [
    "import requests\n",
    "\n",
    "import urllib.request\n",
    "import json "
   ]
  },
  {
   "cell_type": "code",
   "execution_count": 14,
   "metadata": {
    "id": "EWP3BCM6OBXv"
   },
   "outputs": [],
   "source": [
    "# Пример данных\n",
    "data = ( \n",
    "    \"Stylect is a dynamic startup that helps helps women discover and buy shoes. We’re a small team based in London that has previously worked at Google, Techstars, Pixelmator and Rocket Internet.We place a high premium on simplicity no matter what we’re working on (i.e. design, programming, marketing). We’re also a team that ships fast. We built version 1 of our app in a week, the next release (built in a month) was featured in the Apple Appstore Italy as a best new fashion app. Fast release cycles are challenging, but also very fun - which is why we love them.\\xa0As we’ve grown, the projects that we’re working on have grown both in scale and in technical complexity. \\xa0Stylect is looking for someone who can help us improve our backend which gathers product data; analyses/categorizes it; and shows it to thousands of users daily. Each step in the process has unique challenges that demands a strong technical background.\",\n",
    "    \"ustwo offers you the opportunity to be yourself, whilst delivering the best work on the planet for some of the biggest and most innovative brands. A culture thriving on collaboration underpins what is an amazing work smart/ live well environment.We genuinely care about the work that we deliver and the people who help make it all possible. We only invest in projects, people and practices that we believe in, to ensure we remain excited about every opportunity.\",\n",
    "    \"We are negotiable on salary and there is the potential for equity for the right candidate.\"\n",
    ")"
   ]
  },
  {
   "cell_type": "code",
   "execution_count": 15,
   "metadata": {
    "id": "J_xtPIQt8toy"
   },
   "outputs": [],
   "source": [
    "# формируем запрос\n",
    "def send_json(x):\n",
    "    description, company_profile, benefits = x\n",
    "    #print(description, company_profile, benefits)\n",
    "    body = {\n",
    "        'description': description, \n",
    "        'company_profile': company_profile,\n",
    "        'benefits': benefits\n",
    "        }\n",
    "    myurl = 'http://127.0.0.1:5000/' + '/predict'\n",
    "    headers = {'content-type': 'application/json; charset=utf-8'}\n",
    "    response = requests.post(myurl, json=body, headers=headers)\n",
    "    return response.json()['predictions']"
   ]
  },
  {
   "cell_type": "code",
   "execution_count": 16,
   "metadata": {},
   "outputs": [
    {
     "name": "stdout",
     "output_type": "stream",
     "text": [
      "предсказание 0.0011293598194177985\n"
     ]
    }
   ],
   "source": [
    "# обращение к серверу с запросом из одного набора (его построили руками выше - data)\n",
    "response = send_json(data)\n",
    "print('предсказание', response)"
   ]
  },
  {
   "cell_type": "markdown",
   "metadata": {
    "id": "4-wsAkrJebRl"
   },
   "source": [
    "5. Анализ : в целом похоже"
   ]
  }
 ],
 "metadata": {
  "colab": {
   "collapsed_sections": [],
   "name": "Lesson 9_request.ipynb",
   "provenance": []
  },
  "kernelspec": {
   "display_name": "Python 3 (ipykernel)",
   "language": "python",
   "name": "python3"
  },
  "language_info": {
   "codemirror_mode": {
    "name": "ipython",
    "version": 3
   },
   "file_extension": ".py",
   "mimetype": "text/x-python",
   "name": "python",
   "nbconvert_exporter": "python",
   "pygments_lexer": "ipython3",
   "version": "3.9.12"
  }
 },
 "nbformat": 4,
 "nbformat_minor": 4
}
